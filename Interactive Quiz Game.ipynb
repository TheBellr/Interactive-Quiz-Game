{
 "cells": [
  {
   "cell_type": "markdown",
   "id": "637c8ef8-08b3-4012-bb27-c13d2746bb29",
   "metadata": {},
   "source": [
    "# Interactive Quiz Game\n",
    "\n",
    "Create an interactive quiz game where users can answer a series of questions. Use control flow to manage the flow of the quiz. Store the questions and correct answers in a dictionary. After each question, provide feedback on whether the user's answer was correct or not."
   ]
  },
  {
   "cell_type": "code",
   "execution_count": null,
   "id": "e6448322-10a4-4e91-9666-c10db319fa45",
   "metadata": {},
   "outputs": [],
   "source": [
    "print(\"Welcome to the Quiz Game!\")\n",
    "print(\"Answer the following questions:\")\n",
    "print( )\n",
    "\n",
    "score = 0\n",
    "\n",
    "quiz_questions = {\n",
    "        \"What is the capital of France?\": \"PARIS\",\n",
    "        \"Which planet has the most gravity?\": \"JUPITER\",\n",
    "        \"What animal is called the king of the jungle?\": \"LION\",\n",
    "        \"What is the most popular book in the world?\": \"BIBLE\",\n",
    "        \"What is the smallest unit of the body?\": \"CELL\",\n",
    "    }\n",
    "\n",
    "\n",
    "for question, correct_answer in quiz_questions.items():\n",
    "    user_answer = input(str(question)).upper()\n",
    "\n",
    "    if user_answer == correct_answer.upper():\n",
    "            print(\"Correct!\")\n",
    "            print( )\n",
    "            score += 1\n",
    "    else:\n",
    "            print(\"Sorry, the correct answer is: \" + str(correct_answer))\n",
    "            print( )\n",
    "print( )\n",
    "print(\"Quiz Completed!\")\n",
    "print('Your final score is: '+ str(score) +'/'+str(len(quiz_questions)))"
   ]
  }
 ],
 "metadata": {
  "kernelspec": {
   "display_name": "Python 3 (ipykernel)",
   "language": "python",
   "name": "python3"
  },
  "language_info": {
   "codemirror_mode": {
    "name": "ipython",
    "version": 3
   },
   "file_extension": ".py",
   "mimetype": "text/x-python",
   "name": "python",
   "nbconvert_exporter": "python",
   "pygments_lexer": "ipython3",
   "version": "3.11.5"
  }
 },
 "nbformat": 4,
 "nbformat_minor": 5
}
